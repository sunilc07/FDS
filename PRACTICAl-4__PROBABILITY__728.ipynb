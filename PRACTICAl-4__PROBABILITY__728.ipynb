{
 "cells": [
  {
   "cell_type": "code",
   "execution_count": 1,
   "id": "a502ffa4",
   "metadata": {},
   "outputs": [
    {
     "name": "stdout",
     "output_type": "stream",
     "text": [
      "probability of getting 3 is : 0.16666666666666666\n"
     ]
    }
   ],
   "source": [
    "# probability of getting 3 when a die is rolled\n",
    "ns = 6 # n(S) {1,2,3,4,5,6,}\n",
    "na = 1 # n(A) {3}\n",
    "pa = na/ns # p(A)\n",
    "print(\"probability of getting 3 is :\",pa)"
   ]
  },
  {
   "cell_type": "code",
   "execution_count": 2,
   "id": "5c0fff1e",
   "metadata": {},
   "outputs": [
    {
     "name": "stdout",
     "output_type": "stream",
     "text": [
      "probability of getting atleast one head when a coin is tossed trice : 0.875\n"
     ]
    }
   ],
   "source": [
    "# probability of atleast getting one head when a coin is tossed trice\n",
    "ns = 8 # n(S) {HHH,HHT,HTH,HTT,THH,THT,TTH,TTT}\n",
    "na = 7 # n(A) {HHH,HHT,HTH,HTT,THH,THT,TTH,}\n",
    "pa = na/ns\n",
    "print(\"probability of getting atleast one head when a coin is tossed trice :\",pa)\n"
   ]
  },
  {
   "cell_type": "code",
   "execution_count": 3,
   "id": "babc86da",
   "metadata": {},
   "outputs": [
    {
     "name": "stdout",
     "output_type": "stream",
     "text": [
      "probability that it is not blue : 0.7\n"
     ]
    }
   ],
   "source": [
    "# A glass jar contains 5 red, 3 blue, and 2 green jelly beans. \n",
    "# If a jelly bean is chosen at random from the jar,\n",
    "# what is the probability that it is not blue?\n",
    "ns = 10 #n(S) {total numner of jelly}\n",
    "na =7 # n(A) {total jelly which is not blue}\n",
    "pa = na/ns\n",
    "print(\"probability that it is not blue :\",pa)"
   ]
  },
  {
   "cell_type": "code",
   "execution_count": 4,
   "id": "7a7cbe8d",
   "metadata": {},
   "outputs": [
    {
     "name": "stdout",
     "output_type": "stream",
     "text": [
      "probability that they both will be alive in 20 years is : 0.35\n"
     ]
    }
   ],
   "source": [
    "# If the probability that person A will be alive in 20 years \n",
    "# is 0.7 and the prob of B will be alive in 20 years is 0.5\n",
    "# what is the prob that they both will be alive in 20 years?\n",
    "# These are independent events , 50\n",
    "p = 0.7*0.5\n",
    "print(\"probability that they both will be alive in 20 years is :\",p)"
   ]
  },
  {
   "cell_type": "code",
   "execution_count": 5,
   "id": "244df78a",
   "metadata": {},
   "outputs": [],
   "source": [
    "# formula of prob lets make it func so we dont need to type again and again\n",
    "def event_probability(n,s):\n",
    "    return n/s"
   ]
  },
  {
   "cell_type": "code",
   "execution_count": 16,
   "id": "fc22e68f",
   "metadata": {},
   "outputs": [
    {
     "name": "stdout",
     "output_type": "stream",
     "text": [
      "Probability of getting a 4 or 5 on the first toss and a 1,2 or 3 in the second toss : 0.16666666666666666\n"
     ]
    }
   ],
   "source": [
    "# A die is tossed twice, Find the probability of getting a 4 or 5 on the first toss\n",
    "#and a 1,2 or 3 in the second toss\n",
    "# using my func\n",
    "#probability of getting a 4 or 5 on the first toss, 2 event total sample is 6\n",
    "pa = event_probability(2,6)\n",
    "# probability of getting a 1 2,or 3 on the sencond toss, 3 event total sample is 6\n",
    "pb = event_probability(3,6)\n",
    "# total prob of both will be\n",
    "P = pa * pb\n",
    "print(\"Probability of getting a 4 or 5 on the first toss and a 1,2 or 3 in the second toss :\",P)"
   ]
  },
  {
   "cell_type": "code",
   "execution_count": 18,
   "id": "87c61d01",
   "metadata": {},
   "outputs": [
    {
     "name": "stdout",
     "output_type": "stream",
     "text": [
      "The probability of obtaining white, black and green in order is : 0.1736111111111111\n"
     ]
    }
   ],
   "source": [
    "# Example :6\n",
    "# A bag contains 5 white marbles, 3 black marbles and 2 green marbles,\n",
    "#In each draw, a marbles is drawn from the bag and not replaced.\n",
    "# In three draws, find the probability of obtaining white, black, and green in that order.\n",
    "# s= {5 white, 3 black, 2 green}\n",
    "ns = 10\n",
    "#event 1{getting white}\n",
    "na = 5\n",
    "pa = event_probability(na,10)\n",
    "#event 2 {getting black}\n",
    "nb = 3\n",
    "pb = event_probability(na,9)\n",
    "#event 3 {getting green}\n",
    "nc = 2\n",
    "pc = event_probability(na,8)\n",
    "P = pa*pb*pc\n",
    "print(\"The probability of obtaining white, black and green in order is :\",P)"
   ]
  },
  {
   "cell_type": "code",
   "execution_count": 8,
   "id": "0745df2b",
   "metadata": {},
   "outputs": [
    {
     "name": "stdout",
     "output_type": "stream",
     "text": [
      "Probability of drawing a heart or a club is : 0.5\n"
     ]
    }
   ],
   "source": [
    "# Example :7\n",
    "# Sample space\n",
    "cards = 52\n",
    "# calculate the probability of drawing a heart or a club\n",
    "hearts = 13\n",
    "clubs = 13\n",
    "heart_or_club = event_probability(hearts,cards) + event_probability(clubs,cards)\n",
    "print(\"Probability of drawing a heart or a club is :\",heart_or_club)"
   ]
  },
  {
   "cell_type": "code",
   "execution_count": 19,
   "id": "c7db58f1",
   "metadata": {},
   "outputs": [
    {
     "name": "stdout",
     "output_type": "stream",
     "text": [
      "The probability of drawing an ace, king or queen is : 0.23076923076923078\n"
     ]
    }
   ],
   "source": [
    "# Example :8\n",
    "\n",
    "# calculate the probability of drawing an ace, king or a queen\n",
    "#The probability of drawing ace card is 4/52\n",
    "ace = 4\n",
    "#The probability of drawing king card is 4/52\n",
    "kings = 4\n",
    "#The probability of drawing queen card is 4/52\n",
    "queens = 4\n",
    "ace_or_kings_or_queen = event_probability(ace, cards) + event_probability(kings, cards) + event_probability(queens, cards)\n",
    "print (\"The probability of drawing an ace, king or queen is :\",ace_or_kings_or_queen)"
   ]
  },
  {
   "cell_type": "code",
   "execution_count": 20,
   "id": "24f90301",
   "metadata": {},
   "outputs": [
    {
     "name": "stdout",
     "output_type": "stream",
     "text": [
      "The probability of drawing a heart or an ace is : 0.3\n"
     ]
    }
   ],
   "source": [
    "# Example :9\n",
    "# claculate the probability of drawing a heart or an ace\n",
    "#The probability of first drawing an heart is 13/52\n",
    "hearts = 13\n",
    "#The probability of first drawing an ace is 4/52\n",
    "ace = 4\n",
    "# but there is card of heart or Ace\n",
    "ace_of_hearts = 1\n",
    "heart_or_ace = event_probability(hearts, cards) + event_probability(ace, cards) - event_probability(ace_of_hearts, cards)\n",
    "print(\"The probability of drawing a heart or an ace is :\",round(heart_or_ace,1))"
   ]
  },
  {
   "cell_type": "code",
   "execution_count": 11,
   "id": "4dc647d2",
   "metadata": {},
   "outputs": [
    {
     "name": "stdout",
     "output_type": "stream",
     "text": [
      "The probability of drawing a red or face cards is : 0.62\n"
     ]
    }
   ],
   "source": [
    "#Example:10\n",
    "# Calculate the probability of drawing red cards or face cards\n",
    "#The probability of drawing a red cards is 26/52\n",
    "red = 26\n",
    "#The probability of drawing a face cards is 12/52\n",
    "face_card = 12\n",
    "#The probability of drawing a red  face cards is 6/26\n",
    "red_face_cards = 6\n",
    "red_or_face = event_probability(red, cards) + event_probability(face_card, cards) - event_probability(red_face_cards, cards)\n",
    "print(\"The probability of drawing a red or face cards is :\",round(red_or_face,2))"
   ]
  },
  {
   "cell_type": "code",
   "execution_count": 12,
   "id": "defba56f",
   "metadata": {},
   "outputs": [
    {
     "name": "stdout",
     "output_type": "stream",
     "text": [
      "probability of not getting 5 is : 0.8333333333333334\n"
     ]
    }
   ],
   "source": [
    "# Example :11\n",
    "# probability of not getting 5 when a fair die is rolled\n",
    "ns = 6 # n(S) = {1,2,3,4,5,6}\n",
    "na = 1 # n(A) = {5}\n",
    "pa = na/ns # P(A)\n",
    "print(\"probability of not getting 5 is :\",1-pa)\n"
   ]
  },
  {
   "cell_type": "markdown",
   "id": "ba59fcea",
   "metadata": {},
   "source": [
    "# Conditional Probability"
   ]
  },
  {
   "cell_type": "code",
   "execution_count": 21,
   "id": "b3506d90",
   "metadata": {},
   "outputs": [
    {
     "name": "stdout",
     "output_type": "stream",
     "text": [
      "0.0784313725490196\n"
     ]
    }
   ],
   "source": [
    "# Example :12(conditional probability)\n",
    "# Suppose you draw 2 cards from deck.\n",
    "# you win if you get ace given that you draw a jack in first draw\n",
    "cards = 52\n",
    "j = 4\n",
    "ace = 4\n",
    "pj = event_probability(j, 52)\n",
    "pa = event_probability(ace,51)\n",
    "pa_given_j = (pa*pj)/pj\n",
    "print(pa_given_j)"
   ]
  },
  {
   "cell_type": "code",
   "execution_count": 25,
   "id": "4f53961c",
   "metadata": {},
   "outputs": [
    {
     "data": {
      "text/html": [
       "<div>\n",
       "<style scoped>\n",
       "    .dataframe tbody tr th:only-of-type {\n",
       "        vertical-align: middle;\n",
       "    }\n",
       "\n",
       "    .dataframe tbody tr th {\n",
       "        vertical-align: top;\n",
       "    }\n",
       "\n",
       "    .dataframe thead th {\n",
       "        text-align: right;\n",
       "    }\n",
       "</style>\n",
       "<table border=\"1\" class=\"dataframe\">\n",
       "  <thead>\n",
       "    <tr style=\"text-align: right;\">\n",
       "      <th></th>\n",
       "      <th>school</th>\n",
       "      <th>sex</th>\n",
       "      <th>age</th>\n",
       "      <th>address</th>\n",
       "      <th>famsize</th>\n",
       "      <th>Pstatus</th>\n",
       "      <th>Medu</th>\n",
       "      <th>Fedu</th>\n",
       "      <th>Mjob</th>\n",
       "      <th>Fjob</th>\n",
       "      <th>...</th>\n",
       "      <th>famrel</th>\n",
       "      <th>freetime</th>\n",
       "      <th>goout</th>\n",
       "      <th>Dalc</th>\n",
       "      <th>Walc</th>\n",
       "      <th>health</th>\n",
       "      <th>absences</th>\n",
       "      <th>G1</th>\n",
       "      <th>G2</th>\n",
       "      <th>G3</th>\n",
       "    </tr>\n",
       "  </thead>\n",
       "  <tbody>\n",
       "    <tr>\n",
       "      <th>0</th>\n",
       "      <td>GP</td>\n",
       "      <td>F</td>\n",
       "      <td>18</td>\n",
       "      <td>U</td>\n",
       "      <td>GT3</td>\n",
       "      <td>A</td>\n",
       "      <td>4</td>\n",
       "      <td>4</td>\n",
       "      <td>at_home</td>\n",
       "      <td>teacher</td>\n",
       "      <td>...</td>\n",
       "      <td>4</td>\n",
       "      <td>3</td>\n",
       "      <td>4</td>\n",
       "      <td>1</td>\n",
       "      <td>1</td>\n",
       "      <td>3</td>\n",
       "      <td>6</td>\n",
       "      <td>5</td>\n",
       "      <td>6</td>\n",
       "      <td>6</td>\n",
       "    </tr>\n",
       "    <tr>\n",
       "      <th>1</th>\n",
       "      <td>GP</td>\n",
       "      <td>F</td>\n",
       "      <td>17</td>\n",
       "      <td>U</td>\n",
       "      <td>GT3</td>\n",
       "      <td>T</td>\n",
       "      <td>1</td>\n",
       "      <td>1</td>\n",
       "      <td>at_home</td>\n",
       "      <td>other</td>\n",
       "      <td>...</td>\n",
       "      <td>5</td>\n",
       "      <td>3</td>\n",
       "      <td>3</td>\n",
       "      <td>1</td>\n",
       "      <td>1</td>\n",
       "      <td>3</td>\n",
       "      <td>4</td>\n",
       "      <td>5</td>\n",
       "      <td>5</td>\n",
       "      <td>6</td>\n",
       "    </tr>\n",
       "    <tr>\n",
       "      <th>2</th>\n",
       "      <td>GP</td>\n",
       "      <td>F</td>\n",
       "      <td>15</td>\n",
       "      <td>U</td>\n",
       "      <td>LE3</td>\n",
       "      <td>T</td>\n",
       "      <td>1</td>\n",
       "      <td>1</td>\n",
       "      <td>at_home</td>\n",
       "      <td>other</td>\n",
       "      <td>...</td>\n",
       "      <td>4</td>\n",
       "      <td>3</td>\n",
       "      <td>2</td>\n",
       "      <td>2</td>\n",
       "      <td>3</td>\n",
       "      <td>3</td>\n",
       "      <td>10</td>\n",
       "      <td>7</td>\n",
       "      <td>8</td>\n",
       "      <td>10</td>\n",
       "    </tr>\n",
       "  </tbody>\n",
       "</table>\n",
       "<p>3 rows × 33 columns</p>\n",
       "</div>"
      ],
      "text/plain": [
       "  school sex  age address famsize Pstatus  Medu  Fedu     Mjob     Fjob  ...  \\\n",
       "0     GP   F   18       U     GT3       A     4     4  at_home  teacher  ...   \n",
       "1     GP   F   17       U     GT3       T     1     1  at_home    other  ...   \n",
       "2     GP   F   15       U     LE3       T     1     1  at_home    other  ...   \n",
       "\n",
       "  famrel freetime  goout  Dalc  Walc health absences G1 G2  G3  \n",
       "0      4        3      4     1     1      3        6  5  6   6  \n",
       "1      5        3      3     1     1      3        4  5  5   6  \n",
       "2      4        3      2     2     3      3       10  7  8  10  \n",
       "\n",
       "[3 rows x 33 columns]"
      ]
     },
     "execution_count": 25,
     "metadata": {},
     "output_type": "execute_result"
    }
   ],
   "source": [
    "import pandas as pd\n",
    "import numpy as np\n",
    "df = pd.read_csv('student-mat.csv')\n",
    "df.head(3)"
   ]
  },
  {
   "cell_type": "code",
   "execution_count": 23,
   "id": "07d1aa4c",
   "metadata": {},
   "outputs": [
    {
     "data": {
      "text/plain": [
       "395"
      ]
     },
     "execution_count": 23,
     "metadata": {},
     "output_type": "execute_result"
    }
   ],
   "source": [
    "len(df)"
   ]
  },
  {
   "cell_type": "code",
   "execution_count": 26,
   "id": "070da885",
   "metadata": {},
   "outputs": [],
   "source": [
    "# Calculate the probability a student gets an A(80% +)in maths,given they miss 10 or more classes."
   ]
  },
  {
   "cell_type": "code",
   "execution_count": 27,
   "id": "ab1b37bf",
   "metadata": {},
   "outputs": [],
   "source": [
    "df['grades_A'] = np.where(df['G3']*5 >=80,1,0)"
   ]
  },
  {
   "cell_type": "code",
   "execution_count": 28,
   "id": "79c9f7f3",
   "metadata": {},
   "outputs": [],
   "source": [
    "df['high_absenses'] = np.where(df['absences'] >=10,1,0)"
   ]
  },
  {
   "cell_type": "code",
   "execution_count": 29,
   "id": "11b25620",
   "metadata": {},
   "outputs": [],
   "source": [
    "df['count'] = 1"
   ]
  },
  {
   "cell_type": "code",
   "execution_count": 33,
   "id": "89cb0db5",
   "metadata": {},
   "outputs": [
    {
     "data": {
      "text/html": [
       "<div>\n",
       "<style scoped>\n",
       "    .dataframe tbody tr th:only-of-type {\n",
       "        vertical-align: middle;\n",
       "    }\n",
       "\n",
       "    .dataframe tbody tr th {\n",
       "        vertical-align: top;\n",
       "    }\n",
       "\n",
       "    .dataframe thead th {\n",
       "        text-align: right;\n",
       "    }\n",
       "</style>\n",
       "<table border=\"1\" class=\"dataframe\">\n",
       "  <thead>\n",
       "    <tr style=\"text-align: right;\">\n",
       "      <th></th>\n",
       "      <th>grades_A</th>\n",
       "      <th>high_absenses</th>\n",
       "      <th>count</th>\n",
       "    </tr>\n",
       "  </thead>\n",
       "  <tbody>\n",
       "    <tr>\n",
       "      <th>0</th>\n",
       "      <td>0</td>\n",
       "      <td>0</td>\n",
       "      <td>1</td>\n",
       "    </tr>\n",
       "    <tr>\n",
       "      <th>1</th>\n",
       "      <td>0</td>\n",
       "      <td>0</td>\n",
       "      <td>1</td>\n",
       "    </tr>\n",
       "    <tr>\n",
       "      <th>2</th>\n",
       "      <td>0</td>\n",
       "      <td>1</td>\n",
       "      <td>1</td>\n",
       "    </tr>\n",
       "    <tr>\n",
       "      <th>3</th>\n",
       "      <td>0</td>\n",
       "      <td>0</td>\n",
       "      <td>1</td>\n",
       "    </tr>\n",
       "    <tr>\n",
       "      <th>4</th>\n",
       "      <td>0</td>\n",
       "      <td>0</td>\n",
       "      <td>1</td>\n",
       "    </tr>\n",
       "  </tbody>\n",
       "</table>\n",
       "</div>"
      ],
      "text/plain": [
       "   grades_A  high_absenses  count\n",
       "0         0              0      1\n",
       "1         0              0      1\n",
       "2         0              1      1\n",
       "3         0              0      1\n",
       "4         0              0      1"
      ]
     },
     "execution_count": 33,
     "metadata": {},
     "output_type": "execute_result"
    }
   ],
   "source": [
    "df = df[['grades_A','high_absenses','count']]\n",
    "df.head()"
   ]
  },
  {
   "cell_type": "code",
   "execution_count": 36,
   "id": "6fefe1ef",
   "metadata": {},
   "outputs": [],
   "source": [
    "final = pd.pivot_table(\n",
    "     df,\n",
    "     values='count',\n",
    "     index=['grades_A'],\n",
    "     columns=['high_absenses'],\n",
    "     aggfunc=np.size,\n",
    "     fill_value=0\n",
    ")"
   ]
  },
  {
   "cell_type": "code",
   "execution_count": 37,
   "id": "90a14edc",
   "metadata": {},
   "outputs": [
    {
     "name": "stdout",
     "output_type": "stream",
     "text": [
      "high_absenses    0   1\n",
      "grades_A              \n",
      "0              277  78\n",
      "1               35   5\n"
     ]
    }
   ],
   "source": [
    "print(final)"
   ]
  },
  {
   "cell_type": "code",
   "execution_count": 42,
   "id": "cc2b040b",
   "metadata": {},
   "outputs": [
    {
     "data": {
      "text/plain": [
       "0.10126582278481013"
      ]
     },
     "execution_count": 42,
     "metadata": {},
     "output_type": "execute_result"
    }
   ],
   "source": [
    "pa = (final.iloc[1,0]+final.iloc[1,1])/(final.iloc[0,0]+final.iloc[0,1]+final.iloc[1,0]+final.iloc[1,1])\n",
    "pa"
   ]
  },
  {
   "cell_type": "code",
   "execution_count": 43,
   "id": "e14cae8b",
   "metadata": {},
   "outputs": [
    {
     "data": {
      "text/plain": [
       "0.21012658227848102"
      ]
     },
     "execution_count": 43,
     "metadata": {},
     "output_type": "execute_result"
    }
   ],
   "source": [
    "pb = (final.iloc[0,1]+final.iloc[1,1])/(final.iloc[0,0]+final.iloc[0,1]+final.iloc[1,0]+final.iloc[1,1])\n",
    "pb"
   ]
  },
  {
   "cell_type": "code",
   "execution_count": 46,
   "id": "c045b74e",
   "metadata": {},
   "outputs": [
    {
     "data": {
      "text/plain": [
       "0.012658227848101266"
      ]
     },
     "execution_count": 46,
     "metadata": {},
     "output_type": "execute_result"
    }
   ],
   "source": [
    "p_or_b=(final.iloc[1,1])/(final.iloc[0,0]+final.iloc[0,1]+final.iloc[1,0]+final.iloc[1,1])\n",
    "p_or_b\n",
    "\n",
    "                                                                                  "
   ]
  },
  {
   "cell_type": "code",
   "execution_count": 49,
   "id": "ffd5b086",
   "metadata": {},
   "outputs": [
    {
     "data": {
      "text/plain": [
       "0.060240963855421686"
      ]
     },
     "execution_count": 49,
     "metadata": {},
     "output_type": "execute_result"
    }
   ],
   "source": [
    "A_given_B=p_or_b/pb\n",
    "A_given_B"
   ]
  },
  {
   "cell_type": "code",
   "execution_count": 48,
   "id": "5f12006b",
   "metadata": {},
   "outputs": [
    {
     "name": "stdout",
     "output_type": "stream",
     "text": [
      "The probability a student gets an A(80% +)in maths,given they miss 10 or more classes is  : 6.0\n"
     ]
    }
   ],
   "source": [
    "print(\"The probability a student gets an A(80% +)in maths,given they miss 10 or more classes is  :\",round(A_given_B,2)*100)"
   ]
  },
  {
   "cell_type": "code",
   "execution_count": null,
   "id": "733da87b",
   "metadata": {},
   "outputs": [],
   "source": []
  }
 ],
 "metadata": {
  "kernelspec": {
   "display_name": "Python 3 (ipykernel)",
   "language": "python",
   "name": "python3"
  },
  "language_info": {
   "codemirror_mode": {
    "name": "ipython",
    "version": 3
   },
   "file_extension": ".py",
   "mimetype": "text/x-python",
   "name": "python",
   "nbconvert_exporter": "python",
   "pygments_lexer": "ipython3",
   "version": "3.7.11"
  }
 },
 "nbformat": 4,
 "nbformat_minor": 5
}
